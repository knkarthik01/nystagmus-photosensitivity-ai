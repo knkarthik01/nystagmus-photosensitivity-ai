{
  "cells": [
    {
      "cell_type": "markdown",
      "metadata": {
        "id": "view-in-github",
        "colab_type": "text"
      },
      "source": [
        "<a href=\"https://colab.research.google.com/github/knkarthik01/nystagmus-photosensitivity-ai/blob/main/notebooks/3_explainability.ipynb\" target=\"_parent\"><img src=\"https://colab.research.google.com/assets/colab-badge.svg\" alt=\"Open In Colab\"/></a>"
      ]
    },
    {
      "cell_type": "markdown",
      "id": "14922134",
      "metadata": {
        "id": "14922134"
      },
      "source": [
        "# 📓 3_Explainability.ipynb\n",
        "\n",
        "Apply SHAP to understand model predictions on Photosensitivity Risk."
      ]
    },
    {
      "cell_type": "code",
      "execution_count": 1,
      "id": "59ea1834",
      "metadata": {
        "id": "59ea1834"
      },
      "outputs": [],
      "source": [
        "# Step 1: Import libraries\n",
        "import torch\n",
        "import shap\n",
        "import pandas as pd\n",
        "import matplotlib.pyplot as plt\n",
        "from sklearn.model_selection import train_test_split"
      ]
    },
    {
      "cell_type": "code",
      "execution_count": 3,
      "id": "d4d58569",
      "metadata": {
        "id": "d4d58569"
      },
      "outputs": [],
      "source": [
        "# Step 2: Load preprocessed data\n",
        "# Make sure preprocessed_data.csv exists in your environment!\n",
        "data = pd.read_csv('preprocessed_data.csv')\n",
        "\n",
        "X = data[['brightness_level', 'eye_movement_variance']].values\n",
        "y = data['photosensitivity_risk'].values\n",
        "\n",
        "# Train-test split\n",
        "X_train, X_test, y_train, y_test = train_test_split(X, y, test_size=0.2, random_state=42)\n",
        "X_test_tensor = torch.tensor(X_test, dtype=torch.float32)"
      ]
    },
    {
      "cell_type": "code",
      "execution_count": 5,
      "id": "639e9b61",
      "metadata": {
        "colab": {
          "base_uri": "https://localhost:8080/"
        },
        "id": "639e9b61",
        "outputId": "c3cd8135-d7c2-41a7-de92-926bbeaf3ae2"
      },
      "outputs": [
        {
          "output_type": "execute_result",
          "data": {
            "text/plain": [
              "DualBranchNet(\n",
              "  (fc1): Linear(in_features=2, out_features=16, bias=True)\n",
              "  (fc2): Linear(in_features=16, out_features=8, bias=True)\n",
              "  (fc3): Linear(in_features=8, out_features=1, bias=True)\n",
              ")"
            ]
          },
          "metadata": {},
          "execution_count": 5
        }
      ],
      "source": [
        "# Step 3: Define and load the model\n",
        "class DualBranchNet(torch.nn.Module):\n",
        "    def __init__(self):\n",
        "        super(DualBranchNet, self).__init__()\n",
        "        self.fc1 = torch.nn.Linear(2, 16)\n",
        "        self.fc2 = torch.nn.Linear(16, 8)\n",
        "        self.fc3 = torch.nn.Linear(8, 1)\n",
        "\n",
        "    def forward(self, x):\n",
        "        x = torch.relu(self.fc1(x))\n",
        "        x = torch.relu(self.fc2(x))\n",
        "        x = torch.sigmoid(self.fc3(x))\n",
        "        return x\n",
        "\n",
        "# Initialize and load trained weights\n",
        "model = DualBranchNet()\n",
        "model.load_state_dict(torch.load('dual_branch_cnn.pth'))\n",
        "model.eval()"
      ]
    },
    {
      "cell_type": "code",
      "execution_count": 7,
      "id": "14efd1c3",
      "metadata": {
        "colab": {
          "base_uri": "https://localhost:8080/",
          "height": 836,
          "referenced_widgets": [
            "afe7b5be43704ec7bb1f1e86e9795c41",
            "8949b74eb1164e098f4c56c4f17630b6",
            "9b8821d560a44197887f584e21a2abb1",
            "e1737156de1b4e6e9fe5e94b44afe32f",
            "7cb5feec3ca54dbe9f3ce1165df9a1df",
            "7a8ac33d886f452984fce8ca97fdf22c",
            "d57579a6202246ebb7f03bced4d684e8",
            "acb0e57f6093410998378d6d44cfe9eb",
            "736c83bf8a0d4aaa8cc33287be6c0d48",
            "0808cdfcbabb462788f99c4bbd3de2a2",
            "d69c4a9190a04f1e855508fb9400e885"
          ]
        },
        "id": "14efd1c3",
        "outputId": "86bf6b37-3eaf-47aa-bf29-b6081d600412"
      },
      "outputs": [
        {
          "output_type": "display_data",
          "data": {
            "text/plain": [
              "  0%|          | 0/100 [00:00<?, ?it/s]"
            ],
            "application/vnd.jupyter.widget-view+json": {
              "version_major": 2,
              "version_minor": 0,
              "model_id": "afe7b5be43704ec7bb1f1e86e9795c41"
            }
          },
          "metadata": {}
        },
        {
          "output_type": "stream",
          "name": "stderr",
          "text": [
            "<ipython-input-7-ad12ebaecc3e>:16: FutureWarning: The NumPy global RNG was seeded by calling `np.random.seed`. In a future version this function will no longer use the global RNG. Pass `rng` explicitly to opt-in to the new behaviour and silence this warning.\n",
            "  shap.summary_plot(shap_values, X_test_np[:100], feature_names=['brightness_level', 'eye_movement_variance'])\n",
            "/usr/local/lib/python3.11/dist-packages/shap/plots/_beeswarm.py:726: FutureWarning: The NumPy global RNG was seeded by calling `np.random.seed`. In a future version this function will no longer use the global RNG. Pass `rng` explicitly to opt-in to the new behaviour and silence this warning.\n",
            "  summary_legacy(\n"
          ]
        },
        {
          "output_type": "display_data",
          "data": {
            "text/plain": [
              "<Figure size 640x480 with 0 Axes>"
            ]
          },
          "metadata": {}
        },
        {
          "output_type": "display_data",
          "data": {
            "text/plain": [
              "<Figure size 1150x660 with 1 Axes>"
            ],
            "image/png": "[encoded data removed]"
          },
          "metadata": {}
        }
      ],
      "source": [
        "# Step 4: Apply SHAP explainability\n",
        "# Convert torch tensor to numpy\n",
        "X_test_np = X_test_tensor.detach().numpy()\n",
        "\n",
        "# Define a simple prediction function for SHAP\n",
        "def predict_fn(x):\n",
        "    x_tensor = torch.tensor(x, dtype=torch.float32)\n",
        "    with torch.no_grad():\n",
        "        return model(x_tensor).numpy()\n",
        "\n",
        "# Use KernelExplainer\n",
        "explainer = shap.KernelExplainer(predict_fn, X_test_np[:50])  # Use a small background set for speed\n",
        "shap_values = explainer.shap_values(X_test_np[:100])          # Explain 100 samples\n",
        "\n",
        "# Plot\n",
        "shap.summary_plot(shap_values, X_test_np[:100], feature_names=['brightness_level', 'eye_movement_variance'])\n"
      ]
    },
    {
      "cell_type": "markdown",
      "id": "33682380",
      "metadata": {
        "id": "33682380"
      },
      "source": [
        "## 🎯 Great Job!\n",
        "\n",
        "You've now:\n",
        "- Loaded your model\n",
        "- Applied SHAP Explainability\n",
        "- Visualized how brightness and eye movements contribute to risk prediction!\n",
        "\n",
        "Next ideas:\n",
        "- Try GradCAM if you add image-based branches.\n",
        "- Perform SHAP value analysis on more complex datasets."
      ]
    }
  ],
  "metadata": {
    "colab": {
      "provenance": [],
      "include_colab_link": true
    },
    "language_info": {
      "name": "python"
    },
    "kernelspec": {
      "name": "python3",
      "display_name": "Python 3"
    },
    "widgets": {
      "application/vnd.jupyter.widget-state+json": {
        "afe7b5be43704ec7bb1f1e86e9795c41": {
          "model_module": "@jupyter-widgets/controls",
          "model_name": "HBoxModel",
          "model_module_version": "1.5.0",
          "state": {
            "_dom_classes": [],
            "_model_module": "@jupyter-widgets/controls",
            "_model_module_version": "1.5.0",
            "_model_name": "HBoxModel",
            "_view_count": null,
            "_view_module": "@jupyter-widgets/controls",
            "_view_module_version": "1.5.0",
            "_view_name": "HBoxView",
            "box_style": "",
            "children": [
              "IPY_MODEL_8949b74eb1164e098f4c56c4f17630b6",
              "IPY_MODEL_9b8821d560a44197887f584e21a2abb1",
              "IPY_MODEL_e1737156de1b4e6e9fe5e94b44afe32f"
            ],
            "layout": "IPY_MODEL_7cb5feec3ca54dbe9f3ce1165df9a1df"
          }
        },
        "8949b74eb1164e098f4c56c4f17630b6": {
          "model_module": "@jupyter-widgets/controls",
          "model_name": "HTMLModel",
          "model_module_version": "1.5.0",
          "state": {
            "_dom_classes": [],
            "_model_module": "@jupyter-widgets/controls",
            "_model_module_version": "1.5.0",
            "_model_name": "HTMLModel",
            "_view_count": null,
            "_view_module": "@jupyter-widgets/controls",
            "_view_module_version": "1.5.0",
            "_view_name": "HTMLView",
            "description": "",
            "description_tooltip": null,
            "layout": "IPY_MODEL_7a8ac33d886f452984fce8ca97fdf22c",
            "placeholder": "​",
            "style": "IPY_MODEL_d57579a6202246ebb7f03bced4d684e8",
            "value": "100%"
          }
        },
        "9b8821d560a44197887f584e21a2abb1": {
          "model_module": "@jupyter-widgets/controls",
          "model_name": "FloatProgressModel",
          "model_module_version": "1.5.0",
          "state": {
            "_dom_classes": [],
            "_model_module": "@jupyter-widgets/controls",
            "_model_module_version": "1.5.0",
            "_model_name": "FloatProgressModel",
            "_view_count": null,
            "_view_module": "@jupyter-widgets/controls",
            "_view_module_version": "1.5.0",
            "_view_name": "ProgressView",
            "bar_style": "success",
            "description": "",
            "description_tooltip": null,
            "layout": "IPY_MODEL_acb0e57f6093410998378d6d44cfe9eb",
            "max": 100,
            "min": 0,
            "orientation": "horizontal",
            "style": "IPY_MODEL_736c83bf8a0d4aaa8cc33287be6c0d48",
            "value": 100
          }
        },
        "e1737156de1b4e6e9fe5e94b44afe32f": {
          "model_module": "@jupyter-widgets/controls",
          "model_name": "HTMLModel",
          "model_module_version": "1.5.0",
          "state": {
            "_dom_classes": [],
            "_model_module": "@jupyter-widgets/controls",
            "_model_module_version": "1.5.0",
            "_model_name": "HTMLModel",
            "_view_count": null,
            "_view_module": "@jupyter-widgets/controls",
            "_view_module_version": "1.5.0",
            "_view_name": "HTMLView",
            "description": "",
            "description_tooltip": null,
            "layout": "IPY_MODEL_0808cdfcbabb462788f99c4bbd3de2a2",
            "placeholder": "​",
            "style": "IPY_MODEL_d69c4a9190a04f1e855508fb9400e885",
            "value": " 100/100 [00:00&lt;00:00, 427.68it/s]"
          }
        },
        "7cb5feec3ca54dbe9f3ce1165df9a1df": {
          "model_module": "@jupyter-widgets/base",
          "model_name": "LayoutModel",
          "model_module_version": "1.2.0",
          "state": {
            "_model_module": "@jupyter-widgets/base",
            "_model_module_version": "1.2.0",
            "_model_name": "LayoutModel",
            "_view_count": null,
            "_view_module": "@jupyter-widgets/base",
            "_view_module_version": "1.2.0",
            "_view_name": "LayoutView",
            "align_content": null,
            "align_items": null,
            "align_self": null,
            "border": null,
            "bottom": null,
            "display": null,
            "flex": null,
            "flex_flow": null,
            "grid_area": null,
            "grid_auto_columns": null,
            "grid_auto_flow": null,
            "grid_auto_rows": null,
            "grid_column": null,
            "grid_gap": null,
            "grid_row": null,
            "grid_template_areas": null,
            "grid_template_columns": null,
            "grid_template_rows": null,
            "height": null,
            "justify_content": null,
            "justify_items": null,
            "left": null,
            "margin": null,
            "max_height": null,
            "max_width": null,
            "min_height": null,
            "min_width": null,
            "object_fit": null,
            "object_position": null,
            "order": null,
            "overflow": null,
            "overflow_x": null,
            "overflow_y": null,
            "padding": null,
            "right": null,
            "top": null,
            "visibility": null,
            "width": null
          }
        },
        "7a8ac33d886f452984fce8ca97fdf22c": {
          "model_module": "@jupyter-widgets/base",
          "model_name": "LayoutModel",
          "model_module_version": "1.2.0",
          "state": {
            "_model_module": "@jupyter-widgets/base",
            "_model_module_version": "1.2.0",
            "_model_name": "LayoutModel",
            "_view_count": null,
            "_view_module": "@jupyter-widgets/base",
            "_view_module_version": "1.2.0",
            "_view_name": "LayoutView",
            "align_content": null,
            "align_items": null,
            "align_self": null,
            "border": null,
            "bottom": null,
            "display": null,
            "flex": null,
            "flex_flow": null,
            "grid_area": null,
            "grid_auto_columns": null,
            "grid_auto_flow": null,
            "grid_auto_rows": null,
            "grid_column": null,
            "grid_gap": null,
            "grid_row": null,
            "grid_template_areas": null,
            "grid_template_columns": null,
            "grid_template_rows": null,
            "height": null,
            "justify_content": null,
            "justify_items": null,
            "left": null,
            "margin": null,
            "max_height": null,
            "max_width": null,
            "min_height": null,
            "min_width": null,
            "object_fit": null,
            "object_position": null,
            "order": null,
            "overflow": null,
            "overflow_x": null,
            "overflow_y": null,
            "padding": null,
            "right": null,
            "top": null,
            "visibility": null,
            "width": null
          }
        },
        "d57579a6202246ebb7f03bced4d684e8": {
          "model_module": "@jupyter-widgets/controls",
          "model_name": "DescriptionStyleModel",
          "model_module_version": "1.5.0",
          "state": {
            "_model_module": "@jupyter-widgets/controls",
            "_model_module_version": "1.5.0",
            "_model_name": "DescriptionStyleModel",
            "_view_count": null,
            "_view_module": "@jupyter-widgets/base",
            "_view_module_version": "1.2.0",
            "_view_name": "StyleView",
            "description_width": ""
          }
        },
        "acb0e57f6093410998378d6d44cfe9eb": {
          "model_module": "@jupyter-widgets/base",
          "model_name": "LayoutModel",
          "model_module_version": "1.2.0",
          "state": {
            "_model_module": "@jupyter-widgets/base",
            "_model_module_version": "1.2.0",
            "_model_name": "LayoutModel",
            "_view_count": null,
            "_view_module": "@jupyter-widgets/base",
            "_view_module_version": "1.2.0",
            "_view_name": "LayoutView",
            "align_content": null,
            "align_items": null,
            "align_self": null,
            "border": null,
            "bottom": null,
            "display": null,
            "flex": null,
            "flex_flow": null,
            "grid_area": null,
            "grid_auto_columns": null,
            "grid_auto_flow": null,
            "grid_auto_rows": null,
            "grid_column": null,
            "grid_gap": null,
            "grid_row": null,
            "grid_template_areas": null,
            "grid_template_columns": null,
            "grid_template_rows": null,
            "height": null,
            "justify_content": null,
            "justify_items": null,
            "left": null,
            "margin": null,
            "max_height": null,
            "max_width": null,
            "min_height": null,
            "min_width": null,
            "object_fit": null,
            "object_position": null,
            "order": null,
            "overflow": null,
            "overflow_x": null,
            "overflow_y": null,
            "padding": null,
            "right": null,
            "top": null,
            "visibility": null,
            "width": null
          }
        },
        "736c83bf8a0d4aaa8cc33287be6c0d48": {
          "model_module": "@jupyter-widgets/controls",
          "model_name": "ProgressStyleModel",
          "model_module_version": "1.5.0",
          "state": {
            "_model_module": "@jupyter-widgets/controls",
            "_model_module_version": "1.5.0",
            "_model_name": "ProgressStyleModel",
            "_view_count": null,
            "_view_module": "@jupyter-widgets/base",
            "_view_module_version": "1.2.0",
            "_view_name": "StyleView",
            "bar_color": null,
            "description_width": ""
          }
        },
        "0808cdfcbabb462788f99c4bbd3de2a2": {
          "model_module": "@jupyter-widgets/base",
          "model_name": "LayoutModel",
          "model_module_version": "1.2.0",
          "state": {
            "_model_module": "@jupyter-widgets/base",
            "_model_module_version": "1.2.0",
            "_model_name": "LayoutModel",
            "_view_count": null,
            "_view_module": "@jupyter-widgets/base",
            "_view_module_version": "1.2.0",
            "_view_name": "LayoutView",
            "align_content": null,
            "align_items": null,
            "align_self": null,
            "border": null,
            "bottom": null,
            "display": null,
            "flex": null,
            "flex_flow": null,
            "grid_area": null,
            "grid_auto_columns": null,
            "grid_auto_flow": null,
            "grid_auto_rows": null,
            "grid_column": null,
            "grid_gap": null,
            "grid_row": null,
            "grid_template_areas": null,
            "grid_template_columns": null,
            "grid_template_rows": null,
            "height": null,
            "justify_content": null,
            "justify_items": null,
            "left": null,
            "margin": null,
            "max_height": null,
            "max_width": null,
            "min_height": null,
            "min_width": null,
            "object_fit": null,
            "object_position": null,
            "order": null,
            "overflow": null,
            "overflow_x": null,
            "overflow_y": null,
            "padding": null,
            "right": null,
            "top": null,
            "visibility": null,
            "width": null
          }
        },
        "d69c4a9190a04f1e855508fb9400e885": {
          "model_module": "@jupyter-widgets/controls",
          "model_name": "DescriptionStyleModel",
          "model_module_version": "1.5.0",
          "state": {
            "_model_module": "@jupyter-widgets/controls",
            "_model_module_version": "1.5.0",
            "_model_name": "DescriptionStyleModel",
            "_view_count": null,
            "_view_module": "@jupyter-widgets/base",
            "_view_module_version": "1.2.0",
            "_view_name": "StyleView",
            "description_width": ""
          }
        }
      }
    }
  },
  "nbformat": 4,
  "nbformat_minor": 5
}