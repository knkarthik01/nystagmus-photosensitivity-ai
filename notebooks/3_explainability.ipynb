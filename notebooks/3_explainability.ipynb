{
 "cells": [
  {
   "cell_type": "markdown",
   "id": "36c654d1",
   "metadata": {},
   "source": [
    "# 📓 3_Explainability.ipynb\n",
    "\n",
    "Apply SHAP to understand model predictions on Photosensitivity Risk."
   ]
  },
  {
   "cell_type": "code",
   "execution_count": null,
   "id": "bc73ee0b",
   "metadata": {},
   "outputs": [],
   "source": [
    "# Step 1: Import libraries\n",
    "import torch\n",
    "import shap\n",
    "import pandas as pd\n",
    "import matplotlib.pyplot as plt\n",
    "from sklearn.model_selection import train_test_split"
   ]
  },
  {
   "cell_type": "code",
   "execution_count": null,
   "id": "c7c34509",
   "metadata": {},
   "outputs": [],
   "source": [
    "# Step 2: Load preprocessed data\n",
    "# Make sure preprocessed_data.csv exists in your environment!\n",
    "data = pd.read_csv('data/preprocessed/preprocessed_data.csv')\n",
    "\n",
    "X = data[['brightness_level', 'eye_movement_variance']].values\n",
    "y = data['photosensitivity_risk'].values\n",
    "\n",
    "# Train-test split\n",
    "X_train, X_test, y_train, y_test = train_test_split(X, y, test_size=0.2, random_state=42)\n",
    "X_test_tensor = torch.tensor(X_test, dtype=torch.float32)"
   ]
  },
  {
   "cell_type": "code",
   "execution_count": null,
   "id": "a08a1a60",
   "metadata": {},
   "outputs": [],
   "source": [
    "# Step 3: Define and load the model\n",
    "class DualBranchNet(torch.nn.Module):\n",
    "    def __init__(self):\n",
    "        super(DualBranchNet, self).__init__()\n",
    "        self.fc1 = torch.nn.Linear(2, 16)\n",
    "        self.fc2 = torch.nn.Linear(16, 8)\n",
    "        self.fc3 = torch.nn.Linear(8, 1)\n",
    "\n",
    "    def forward(self, x):\n",
    "        x = torch.relu(self.fc1(x))\n",
    "        x = torch.relu(self.fc2(x))\n",
    "        x = torch.sigmoid(self.fc3(x))\n",
    "        return x\n",
    "\n",
    "# Initialize and load trained weights\n",
    "model = DualBranchNet()\n",
    "model.load_state_dict(torch.load('dual_branch_cnn.pth'))\n",
    "model.eval()"
   ]
  },
  {
   "cell_type": "code",
   "execution_count": null,
   "id": "4d077326",
   "metadata": {},
   "outputs": [],
   "source": [
    "# Step 4: Apply SHAP Explainability (Corrected)\n",
    "# Convert tensor to numpy\n",
    "X_test_np = X_test_tensor.detach().numpy()\n",
    "\n",
    "# Define predict function for SHAP\n",
    "def predict_fn(x):\n",
    "    x_tensor = torch.tensor(x, dtype=torch.float32)\n",
    "    with torch.no_grad():\n",
    "        return model(x_tensor).numpy()\n",
    "\n",
    "# KernelExplainer for model\n",
    "explainer = shap.KernelExplainer(predict_fn, X_test_np[:50])  # Small background set for speed\n",
    "shap_values = explainer.shap_values(X_test_np[:100])          # Explain 100 samples\n",
    "\n",
    "# Plot SHAP values\n",
    "shap.summary_plot(shap_values, X_test_np[:100], feature_names=['brightness_level', 'eye_movement_variance'])"
   ]
  },
  {
   "cell_type": "markdown",
   "id": "6f429171",
   "metadata": {},
   "source": [
    "## 🎯 Congratulations!\n",
    "\n",
    "You've now:\n",
    "- Loaded your model\n",
    "- Applied SHAP Explainability properly\n",
    "- Visualized how brightness and eye movements contribute to risk prediction!\n",
    "\n",
    "✅ Notebook is metadata-clean and ready to upload to GitHub."
   ]
  }
 ],
 "metadata": {},
 "nbformat": 4,
 "nbformat_minor": 5
}
