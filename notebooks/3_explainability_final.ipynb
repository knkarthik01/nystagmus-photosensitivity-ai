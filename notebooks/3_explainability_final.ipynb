{
  "cells": [
    {
      "cell_type": "markdown",
      "metadata": {
        "id": "view-in-github",
        "colab_type": "text"
      },
      "source": [
        "<a href=\"https://colab.research.google.com/github/knkarthik01/nystagmus-photosensitivity-ai/blob/main/notebooks/3_explainability_final.ipynb\" target=\"_parent\"><img src=\"https://colab.research.google.com/assets/colab-badge.svg\" alt=\"Open In Colab\"/></a>"
      ]
    },
    {
      "cell_type": "markdown",
      "id": "36c654d1",
      "metadata": {
        "id": "36c654d1"
      },
      "source": [
        "# 📓 3_Explainability.ipynb\n",
        "\n",
        "Apply SHAP to understand model predictions on Photosensitivity Risk."
      ]
    },
    {
      "cell_type": "code",
      "execution_count": 1,
      "id": "bc73ee0b",
      "metadata": {
        "id": "bc73ee0b"
      },
      "outputs": [],
      "source": [
        "# Step 1: Import libraries\n",
        "import torch\n",
        "import shap\n",
        "import pandas as pd\n",
        "import matplotlib.pyplot as plt\n",
        "from sklearn.model_selection import train_test_split"
      ]
    },
    {
      "cell_type": "code",
      "execution_count": 2,
      "id": "c7c34509",
      "metadata": {
        "id": "c7c34509"
      },
      "outputs": [],
      "source": [
        "# Step 2: Load preprocessed data\n",
        "# Make sure preprocessed_data.csv exists in your environment!\n",
        "data = pd.read_csv('preprocessed_data.csv')\n",
        "\n",
        "X = data[['brightness_level', 'eye_movement_variance']].values\n",
        "y = data['photosensitivity_risk'].values\n",
        "\n",
        "# Train-test split\n",
        "X_train, X_test, y_train, y_test = train_test_split(X, y, test_size=0.2, random_state=42)\n",
        "X_test_tensor = torch.tensor(X_test, dtype=torch.float32)"
      ]
    },
    {
      "cell_type": "code",
      "execution_count": 3,
      "id": "a08a1a60",
      "metadata": {
        "colab": {
          "base_uri": "https://localhost:8080/"
        },
        "id": "a08a1a60",
        "outputId": "57da2297-4280-4a2a-bd16-6f1c891b8aee"
      },
      "outputs": [
        {
          "output_type": "execute_result",
          "data": {
            "text/plain": [
              "DualBranchNet(\n",
              "  (fc1): Linear(in_features=2, out_features=16, bias=True)\n",
              "  (fc2): Linear(in_features=16, out_features=8, bias=True)\n",
              "  (fc3): Linear(in_features=8, out_features=1, bias=True)\n",
              ")"
            ]
          },
          "metadata": {},
          "execution_count": 3
        }
      ],
      "source": [
        "# Step 3: Define and load the model\n",
        "class DualBranchNet(torch.nn.Module):\n",
        "    def __init__(self):\n",
        "        super(DualBranchNet, self).__init__()\n",
        "        self.fc1 = torch.nn.Linear(2, 16)\n",
        "        self.fc2 = torch.nn.Linear(16, 8)\n",
        "        self.fc3 = torch.nn.Linear(8, 1)\n",
        "\n",
        "    def forward(self, x):\n",
        "        x = torch.relu(self.fc1(x))\n",
        "        x = torch.relu(self.fc2(x))\n",
        "        x = torch.sigmoid(self.fc3(x))\n",
        "        return x\n",
        "\n",
        "# Initialize and load trained weights\n",
        "model = DualBranchNet()\n",
        "model.load_state_dict(torch.load('dual_branch_cnn.pth'))\n",
        "model.eval()"
      ]
    },
    {
      "cell_type": "code",
      "execution_count": 4,
      "id": "4d077326",
      "metadata": {
        "colab": {
          "base_uri": "https://localhost:8080/",
          "height": 746,
          "referenced_widgets": [
            "fd48a795a42c49e0a34994be10372e96",
            "5aa7c11d6ac346bcbaf7ea6d37cec1b9",
            "999ed16d3a294df289e7660211c82e10",
            "b631511114404322bbe331e58b981b07",
            "2e01246657e042d49ec4fb8771ef3d08",
            "c7d83ecbcb2e47b2af2c71e3a9a29a9b",
            "845c3308ab2749409ab3f02cb2ebb6e1",
            "819874ee342a41daa89cb06f8098b536",
            "9f5bd6101ff948738b0bab86b48894e6",
            "e97347c1898f46b093a4de4a632ececb",
            "b545a37a8d804393b3e4ee86f06c241e"
          ]
        },
        "id": "4d077326",
        "outputId": "619a40be-71a5-4231-8a8e-da4230d4e8e7"
      },
      "outputs": [
        {
          "output_type": "display_data",
          "data": {
            "text/plain": [
              "  0%|          | 0/100 [00:00<?, ?it/s]"
            ],
            "application/vnd.jupyter.widget-view+json": {
              "version_major": 2,
              "version_minor": 0,
              "model_id": "fd48a795a42c49e0a34994be10372e96"
            }
          },
          "metadata": {}
        },
        {
          "output_type": "display_data",
          "data": {
            "text/plain": [
              "<Figure size 640x480 with 0 Axes>"
            ]
          },
          "metadata": {}
        },
        {
          "output_type": "display_data",
          "data": {
            "text/plain": [
              "<Figure size 1150x660 with 1 Axes>"
            ],
            "image/png": "[encoded data removed]"
          },
          "metadata": {}
        }
      ],
      "source": [
        "# Step 4: Apply SHAP Explainability (Corrected)\n",
        "# Convert tensor to numpy\n",
        "X_test_np = X_test_tensor.detach().numpy()\n",
        "\n",
        "# Define predict function for SHAP\n",
        "def predict_fn(x):\n",
        "    x_tensor = torch.tensor(x, dtype=torch.float32)\n",
        "    with torch.no_grad():\n",
        "        return model(x_tensor).numpy()\n",
        "\n",
        "# KernelExplainer for model\n",
        "explainer = shap.KernelExplainer(predict_fn, X_test_np[:50])  # Small background set for speed\n",
        "shap_values = explainer.shap_values(X_test_np[:100])          # Explain 100 samples\n",
        "\n",
        "# Plot SHAP values\n",
        "shap.summary_plot(shap_values, X_test_np[:100], feature_names=['brightness_level', 'eye_movement_variance'])"
      ]
    },
    {
      "cell_type": "markdown",
      "id": "6f429171",
      "metadata": {
        "id": "6f429171"
      },
      "source": [
        "## 🎯 Congratulations!\n",
        "\n",
        "You've now:\n",
        "- Loaded your model\n",
        "- Applied SHAP Explainability properly\n",
        "- Visualized how brightness and eye movements contribute to risk prediction!\n",
        "\n",
        "✅ Notebook is metadata-clean and ready to upload to GitHub."
      ]
    }
  ],
  "metadata": {
    "colab": {
      "provenance": [],
      "include_colab_link": true
    },
    "language_info": {
      "name": "python"
    },
    "kernelspec": {
      "name": "python3",
      "display_name": "Python 3"
    },
    "widgets": {
      "application/vnd.jupyter.widget-state+json": {
        "fd48a795a42c49e0a34994be10372e96": {
          "model_module": "@jupyter-widgets/controls",
          "model_name": "HBoxModel",
          "model_module_version": "1.5.0",
          "state": {
            "_dom_classes": [],
            "_model_module": "@jupyter-widgets/controls",
            "_model_module_version": "1.5.0",
            "_model_name": "HBoxModel",
            "_view_count": null,
            "_view_module": "@jupyter-widgets/controls",
            "_view_module_version": "1.5.0",
            "_view_name": "HBoxView",
            "box_style": "",
            "children": [
              "IPY_MODEL_5aa7c11d6ac346bcbaf7ea6d37cec1b9",
              "IPY_MODEL_999ed16d3a294df289e7660211c82e10",
              "IPY_MODEL_b631511114404322bbe331e58b981b07"
            ],
            "layout": "IPY_MODEL_2e01246657e042d49ec4fb8771ef3d08"
          }
        },
        "5aa7c11d6ac346bcbaf7ea6d37cec1b9": {
          "model_module": "@jupyter-widgets/controls",
          "model_name": "HTMLModel",
          "model_module_version": "1.5.0",
          "state": {
            "_dom_classes": [],
            "_model_module": "@jupyter-widgets/controls",
            "_model_module_version": "1.5.0",
            "_model_name": "HTMLModel",
            "_view_count": null,
            "_view_module": "@jupyter-widgets/controls",
            "_view_module_version": "1.5.0",
            "_view_name": "HTMLView",
            "description": "",
            "description_tooltip": null,
            "layout": "IPY_MODEL_c7d83ecbcb2e47b2af2c71e3a9a29a9b",
            "placeholder": "​",
            "style": "IPY_MODEL_845c3308ab2749409ab3f02cb2ebb6e1",
            "value": "100%"
          }
        },
        "999ed16d3a294df289e7660211c82e10": {
          "model_module": "@jupyter-widgets/controls",
          "model_name": "FloatProgressModel",
          "model_module_version": "1.5.0",
          "state": {
            "_dom_classes": [],
            "_model_module": "@jupyter-widgets/controls",
            "_model_module_version": "1.5.0",
            "_model_name": "FloatProgressModel",
            "_view_count": null,
            "_view_module": "@jupyter-widgets/controls",
            "_view_module_version": "1.5.0",
            "_view_name": "ProgressView",
            "bar_style": "success",
            "description": "",
            "description_tooltip": null,
            "layout": "IPY_MODEL_819874ee342a41daa89cb06f8098b536",
            "max": 100,
            "min": 0,
            "orientation": "horizontal",
            "style": "IPY_MODEL_9f5bd6101ff948738b0bab86b48894e6",
            "value": 100
          }
        },
        "b631511114404322bbe331e58b981b07": {
          "model_module": "@jupyter-widgets/controls",
          "model_name": "HTMLModel",
          "model_module_version": "1.5.0",
          "state": {
            "_dom_classes": [],
            "_model_module": "@jupyter-widgets/controls",
            "_model_module_version": "1.5.0",
            "_model_name": "HTMLModel",
            "_view_count": null,
            "_view_module": "@jupyter-widgets/controls",
            "_view_module_version": "1.5.0",
            "_view_name": "HTMLView",
            "description": "",
            "description_tooltip": null,
            "layout": "IPY_MODEL_e97347c1898f46b093a4de4a632ececb",
            "placeholder": "​",
            "style": "IPY_MODEL_b545a37a8d804393b3e4ee86f06c241e",
            "value": " 100/100 [00:00&lt;00:00, 421.02it/s]"
          }
        },
        "2e01246657e042d49ec4fb8771ef3d08": {
          "model_module": "@jupyter-widgets/base",
          "model_name": "LayoutModel",
          "model_module_version": "1.2.0",
          "state": {
            "_model_module": "@jupyter-widgets/base",
            "_model_module_version": "1.2.0",
            "_model_name": "LayoutModel",
            "_view_count": null,
            "_view_module": "@jupyter-widgets/base",
            "_view_module_version": "1.2.0",
            "_view_name": "LayoutView",
            "align_content": null,
            "align_items": null,
            "align_self": null,
            "border": null,
            "bottom": null,
            "display": null,
            "flex": null,
            "flex_flow": null,
            "grid_area": null,
            "grid_auto_columns": null,
            "grid_auto_flow": null,
            "grid_auto_rows": null,
            "grid_column": null,
            "grid_gap": null,
            "grid_row": null,
            "grid_template_areas": null,
            "grid_template_columns": null,
            "grid_template_rows": null,
            "height": null,
            "justify_content": null,
            "justify_items": null,
            "left": null,
            "margin": null,
            "max_height": null,
            "max_width": null,
            "min_height": null,
            "min_width": null,
            "object_fit": null,
            "object_position": null,
            "order": null,
            "overflow": null,
            "overflow_x": null,
            "overflow_y": null,
            "padding": null,
            "right": null,
            "top": null,
            "visibility": null,
            "width": null
          }
        },
        "c7d83ecbcb2e47b2af2c71e3a9a29a9b": {
          "model_module": "@jupyter-widgets/base",
          "model_name": "LayoutModel",
          "model_module_version": "1.2.0",
          "state": {
            "_model_module": "@jupyter-widgets/base",
            "_model_module_version": "1.2.0",
            "_model_name": "LayoutModel",
            "_view_count": null,
            "_view_module": "@jupyter-widgets/base",
            "_view_module_version": "1.2.0",
            "_view_name": "LayoutView",
            "align_content": null,
            "align_items": null,
            "align_self": null,
            "border": null,
            "bottom": null,
            "display": null,
            "flex": null,
            "flex_flow": null,
            "grid_area": null,
            "grid_auto_columns": null,
            "grid_auto_flow": null,
            "grid_auto_rows": null,
            "grid_column": null,
            "grid_gap": null,
            "grid_row": null,
            "grid_template_areas": null,
            "grid_template_columns": null,
            "grid_template_rows": null,
            "height": null,
            "justify_content": null,
            "justify_items": null,
            "left": null,
            "margin": null,
            "max_height": null,
            "max_width": null,
            "min_height": null,
            "min_width": null,
            "object_fit": null,
            "object_position": null,
            "order": null,
            "overflow": null,
            "overflow_x": null,
            "overflow_y": null,
            "padding": null,
            "right": null,
            "top": null,
            "visibility": null,
            "width": null
          }
        },
        "845c3308ab2749409ab3f02cb2ebb6e1": {
          "model_module": "@jupyter-widgets/controls",
          "model_name": "DescriptionStyleModel",
          "model_module_version": "1.5.0",
          "state": {
            "_model_module": "@jupyter-widgets/controls",
            "_model_module_version": "1.5.0",
            "_model_name": "DescriptionStyleModel",
            "_view_count": null,
            "_view_module": "@jupyter-widgets/base",
            "_view_module_version": "1.2.0",
            "_view_name": "StyleView",
            "description_width": ""
          }
        },
        "819874ee342a41daa89cb06f8098b536": {
          "model_module": "@jupyter-widgets/base",
          "model_name": "LayoutModel",
          "model_module_version": "1.2.0",
          "state": {
            "_model_module": "@jupyter-widgets/base",
            "_model_module_version": "1.2.0",
            "_model_name": "LayoutModel",
            "_view_count": null,
            "_view_module": "@jupyter-widgets/base",
            "_view_module_version": "1.2.0",
            "_view_name": "LayoutView",
            "align_content": null,
            "align_items": null,
            "align_self": null,
            "border": null,
            "bottom": null,
            "display": null,
            "flex": null,
            "flex_flow": null,
            "grid_area": null,
            "grid_auto_columns": null,
            "grid_auto_flow": null,
            "grid_auto_rows": null,
            "grid_column": null,
            "grid_gap": null,
            "grid_row": null,
            "grid_template_areas": null,
            "grid_template_columns": null,
            "grid_template_rows": null,
            "height": null,
            "justify_content": null,
            "justify_items": null,
            "left": null,
            "margin": null,
            "max_height": null,
            "max_width": null,
            "min_height": null,
            "min_width": null,
            "object_fit": null,
            "object_position": null,
            "order": null,
            "overflow": null,
            "overflow_x": null,
            "overflow_y": null,
            "padding": null,
            "right": null,
            "top": null,
            "visibility": null,
            "width": null
          }
        },
        "9f5bd6101ff948738b0bab86b48894e6": {
          "model_module": "@jupyter-widgets/controls",
          "model_name": "ProgressStyleModel",
          "model_module_version": "1.5.0",
          "state": {
            "_model_module": "@jupyter-widgets/controls",
            "_model_module_version": "1.5.0",
            "_model_name": "ProgressStyleModel",
            "_view_count": null,
            "_view_module": "@jupyter-widgets/base",
            "_view_module_version": "1.2.0",
            "_view_name": "StyleView",
            "bar_color": null,
            "description_width": ""
          }
        },
        "e97347c1898f46b093a4de4a632ececb": {
          "model_module": "@jupyter-widgets/base",
          "model_name": "LayoutModel",
          "model_module_version": "1.2.0",
          "state": {
            "_model_module": "@jupyter-widgets/base",
            "_model_module_version": "1.2.0",
            "_model_name": "LayoutModel",
            "_view_count": null,
            "_view_module": "@jupyter-widgets/base",
            "_view_module_version": "1.2.0",
            "_view_name": "LayoutView",
            "align_content": null,
            "align_items": null,
            "align_self": null,
            "border": null,
            "bottom": null,
            "display": null,
            "flex": null,
            "flex_flow": null,
            "grid_area": null,
            "grid_auto_columns": null,
            "grid_auto_flow": null,
            "grid_auto_rows": null,
            "grid_column": null,
            "grid_gap": null,
            "grid_row": null,
            "grid_template_areas": null,
            "grid_template_columns": null,
            "grid_template_rows": null,
            "height": null,
            "justify_content": null,
            "justify_items": null,
            "left": null,
            "margin": null,
            "max_height": null,
            "max_width": null,
            "min_height": null,
            "min_width": null,
            "object_fit": null,
            "object_position": null,
            "order": null,
            "overflow": null,
            "overflow_x": null,
            "overflow_y": null,
            "padding": null,
            "right": null,
            "top": null,
            "visibility": null,
            "width": null
          }
        },
        "b545a37a8d804393b3e4ee86f06c241e": {
          "model_module": "@jupyter-widgets/controls",
          "model_name": "DescriptionStyleModel",
          "model_module_version": "1.5.0",
          "state": {
            "_model_module": "@jupyter-widgets/controls",
            "_model_module_version": "1.5.0",
            "_model_name": "DescriptionStyleModel",
            "_view_count": null,
            "_view_module": "@jupyter-widgets/base",
            "_view_module_version": "1.2.0",
            "_view_name": "StyleView",
            "description_width": ""
          }
        }
      }
    }
  },
  "nbformat": 4,
  "nbformat_minor": 5
}