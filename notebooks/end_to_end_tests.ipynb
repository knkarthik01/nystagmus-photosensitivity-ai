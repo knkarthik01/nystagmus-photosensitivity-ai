{
  "nbformat": 4,
  "nbformat_minor": 0,
  "metadata": {
    "colab": {
      "provenance": [],
      "authorship_tag": "ABX9TyOV1F3m4SGYVm0fnFCoV+4L",
      "include_colab_link": true
    },
    "kernelspec": {
      "name": "python3",
      "display_name": "Python 3"
    },
    "language_info": {
      "name": "python"
    }
  },
  "cells": [
    {
      "cell_type": "markdown",
      "metadata": {
        "id": "view-in-github",
        "colab_type": "text"
      },
      "source": [
        "<a href=\"https://colab.research.google.com/github/knkarthik01/nystagmus-photosensitivity-ai/blob/main/notebooks/end_to_end_tests.ipynb\" target=\"_parent\"><img src=\"https://colab.research.google.com/assets/colab-badge.svg\" alt=\"Open In Colab\"/></a>"
      ]
    },
    {
      "cell_type": "code",
      "source": [
        "!git clone https://github.com/knkarthik01/nystagmus-photosensitivity-ai.git\n"
      ],
      "metadata": {
        "colab": {
          "base_uri": "https://localhost:8080/"
        },
        "id": "aiZojrAZIzNn",
        "outputId": "257c1f92-fbd5-4937-d5d3-e73eab820fa8"
      },
      "execution_count": 1,
      "outputs": [
        {
          "output_type": "stream",
          "name": "stdout",
          "text": [
            "Cloning into 'nystagmus-photosensitivity-ai'...\n",
            "remote: Enumerating objects: 155, done.\u001b[K\n",
            "remote: Counting objects: 100% (155/155), done.\u001b[K\n",
            "remote: Compressing objects: 100% (116/116), done.\u001b[K\n",
            "remote: Total 155 (delta 64), reused 79 (delta 19), pack-reused 0 (from 0)\u001b[K\n",
            "Receiving objects: 100% (155/155), 250.45 KiB | 1.35 MiB/s, done.\n",
            "Resolving deltas: 100% (64/64), done.\n"
          ]
        }
      ]
    },
    {
      "cell_type": "code",
      "source": [
        "%cd /content/nystagmus-photosensitivity-ai/\n",
        "!python project_tests/run_all_tests.py"
      ],
      "metadata": {
        "colab": {
          "base_uri": "https://localhost:8080/"
        },
        "id": "Fd8I5wEzViET",
        "outputId": "f707a76c-de32-4a80-f9fa-0f4e9c3401e6"
      },
      "execution_count": 2,
      "outputs": [
        {
          "output_type": "stream",
          "name": "stdout",
          "text": [
            "/content/nystagmus-photosensitivity-ai\n",
            "Running model tests...\n",
            "✅ test_model_forward_pass passed.\n",
            "✅ test_dummy_training_step passed.\n",
            "\n",
            "Running recommendation tests...\n",
            "✅ test_recommendation_dark_amber passed.\n",
            "✅ test_recommendation_light_grey passed.\n",
            "\n",
            "Running CLI tests...\n",
            "✅ test_cli_demo passed.\n",
            "\n",
            "✅ All tests completed.\n"
          ]
        }
      ]
    }
  ]
}